{
 "cells": [
  {
   "cell_type": "markdown",
   "metadata": {},
   "source": [
    "## TODO\n",
    "### Create a DataFrame with Fur colour and count (grey, red, black) -> finally create squirrel_count.csv"
   ]
  },
  {
   "cell_type": "code",
   "execution_count": 42,
   "metadata": {},
   "outputs": [],
   "source": [
    "import pandas as pd"
   ]
  },
  {
   "cell_type": "code",
   "execution_count": 43,
   "metadata": {},
   "outputs": [],
   "source": [
    "squirrel = pd.read_csv(\"2018_Central_Park_Squirrel_Census_-_Squirrel_Data.csv\")"
   ]
  },
  {
   "cell_type": "code",
   "execution_count": 44,
   "metadata": {},
   "outputs": [],
   "source": [
    "gray = len(squirrel[squirrel[\"Primary Fur Color\"] == \"Gray\"])\n",
    "cinnamon = len(squirrel[squirrel[\"Primary Fur Color\"] == \"Cinnamon\"])\n",
    "black = len(squirrel[squirrel[\"Primary Fur Color\"] == \"Black\"])"
   ]
  },
  {
   "cell_type": "code",
   "execution_count": 48,
   "metadata": {},
   "outputs": [],
   "source": [
    "colors_series = pd.Series([gray, cinnamon, black])\n",
    "names_series = pd.Series([\"Gray\", \"Cinnamon\", \"Black\"])"
   ]
  },
  {
   "cell_type": "code",
   "execution_count": 52,
   "metadata": {},
   "outputs": [],
   "source": [
    "frame = {\n",
    "    \"Fur Color\": names_series,\n",
    "    \"Count\" : colors_series\n",
    "}"
   ]
  },
  {
   "cell_type": "code",
   "execution_count": 53,
   "metadata": {},
   "outputs": [],
   "source": [
    "squirrel_count = pd.DataFrame(frame)"
   ]
  },
  {
   "cell_type": "code",
   "execution_count": 55,
   "metadata": {},
   "outputs": [],
   "source": [
    "squirrel_count.to_csv(\"squirrel_count.csv\", sep=\",\")"
   ]
  }
 ],
 "metadata": {
  "kernelspec": {
   "display_name": "Python 3",
   "language": "python",
   "name": "python3"
  },
  "language_info": {
   "codemirror_mode": {
    "name": "ipython",
    "version": 3
   },
   "file_extension": ".py",
   "mimetype": "text/x-python",
   "name": "python",
   "nbconvert_exporter": "python",
   "pygments_lexer": "ipython3",
   "version": "3.8.5"
  }
 },
 "nbformat": 4,
 "nbformat_minor": 4
}
